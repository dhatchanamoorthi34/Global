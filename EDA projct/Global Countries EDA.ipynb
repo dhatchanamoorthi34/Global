{
 "cells": [
  {
   "cell_type": "markdown",
   "id": "fb611819-3b17-4b55-84de-0ee51927680b",
   "metadata": {
    "tags": []
   },
   "source": [
    "<font color='red'>bar</font> "
   ]
  },
  {
   "cell_type": "markdown",
   "id": "0a8e2be1-07bc-4c87-8c6f-842aef39225e",
   "metadata": {
    "tags": []
   },
   "source": [
    "font size=\"6\">your_text_here</font>"
   ]
  },
  {
   "cell_type": "code",
   "execution_count": null,
   "id": "f50ee834-06bb-4339-8b3f-fd6cad3e61b4",
   "metadata": {
    "tags": []
   },
   "outputs": [],
   "source": [
    "<font size=\"4\">your_text_here</font>"
   ]
  },
  {
   "cell_type": "markdown",
   "id": "67d3771b-dcb5-4835-931c-1f0fb5510c83",
   "metadata": {},
   "source": [
    "\n",
    "   Welcome to the Global Country Information Dataset 2023 Notebook! This comprehensive dataset provides a wealth of information about countries worldwide, encompassing a wide range of indicators and attributes. With demographic statistics, economic indicators, environmental factors, healthcare metrics, education statistics, and more, this dataset offers a complete global perspective on various aspects of nations. We will delve into the data to extract insights, perform exploratory data analysis (EDA), and draw meaningful conclusions.\n"
   ]
  },
  {
   "cell_type": "markdown",
   "id": "578b41a1-e279-4dda-a46a-6f3dec42cf28",
   "metadata": {},
   "source": [
    "__string__ "
   ]
  },
  {
   "cell_type": "markdown",
   "id": "5eecac08-7613-485d-a5d4-1d83e93f56a2",
   "metadata": {},
   "source": [
    "<div style=\"border-radius: 30px 0 30px 0px; border:#FFA500 solid; padding: 15px; background-color: #F3f9ed; font-size:100%; text-align:left \">\n",
    "   Welcome to the Global Country Information Dataset 2023 Notebook! This comprehensive dataset provides a wealth of information about countries worldwide, encompassing a wide range of indicators and attributes. With demographic statistics, economic indicators, environmental factors, healthcare metrics, education statistics, and more, this dataset offers a complete global perspective on various aspects of nations. We will delve into the data to extract insights, perform exploratory data analysis (EDA), and draw meaningful conclusions.\n",
    "</div>"
   ]
  },
  {
   "cell_type": "markdown",
   "id": "0687e3cb-3586-441d-afe0-4a6cf8ac58fa",
   "metadata": {},
   "source": [
    "<div style=\"border-radius: 30px 0 30px 0px; border:#FFA500 solid; padding: 15px; background-color: #F3f9ed; font-size:100%; text-align:left \">\n",
    "   Welcome to the Global Country Information Dataset 2023 Notebook! This comprehensive dataset provides a wealth of information about countries worldwide, encompassing a wide range of indicators and attributes. With demographic statistics, economic indicators, environmental factors, healthcare metrics, education statistics, and more, this dataset offers a complete global perspective on various aspects of nations. We will delve into the data to extract insights, perform exploratory data analysis (EDA), and draw meaningful conclusions.\n",
    "</div>"
   ]
  },
  {
   "cell_type": "markdown",
   "id": "425e4a80-ac13-480a-961f-1140d1f7e16c",
   "metadata": {},
   "source": [
    "<div class=\"\" role=\"section\" tabindex=\"0\">\n",
    "        \n",
    "<div class=\"cell border-box-sizing text_cell rendered\"><div class=\"prompt input_prompt\">\n",
    "</div><div class=\"inner_cell\"><div><div style=\"height: inherit; --mdc-theme-on-primary: #FFFFFF; --mdc-theme-on-surface: rgba(0, 0, 0, 0.87); --mdc-theme-text-primary-on-background: rgba(0, 0, 0, 0.87); --mdc-theme-text-secondary-on-background: rgba(0, 0, 0, 0.54); --mdc-theme-text-hint-on-background: rgba(0, 0, 0, 0.38); --mdc-theme-text-disabled-on-background: rgba(0, 0, 0, 0.38); --mdc-theme-text-icon-on-background: rgba(0, 0, 0, 0.38); --mdc-theme-primary: #20BEFF; --mdc-theme-error: #D93025; --mdc-theme-background: #F8F8F8; --mdc-theme-surface: #FFFFFF; --mdc-theme-primary-bg: #20BEFF; --mdc-theme-secondary-bg: #919294;\" class=\"\"><div id=\"rmwcPortal\"></div><div id=\"kaggle-portal-root-global\"></div><div class=\"sc-gueYoa jEwHJW\"><div class=\"sc-dmqHEX thTOE\"><button aria-label=\"Copy cell link\" title=\"Copy cell link\" class=\"sc-beqWaB iqkEMa undefined google-material-icons\">link</button><button aria-label=\"Embed cell\" title=\"Embed cell\" class=\"sc-beqWaB iqkEMa undefined google-material-icons\">code</button></div></div></div></div>\n",
    "<div class=\"text_cell_render border-box-sizing rendered_html\">\n",
    "<div style=\"display: flex; align-items: center;\">\n",
    "   <div style=\" display: flex; gap: 10px;\">\n",
    "      <img src=\"https://media.giphy.com/media/jZTfM2sOyVqu8D0DC9/giphy.gif\" alt=\"Small Image\" style=\"width: 100px; height: auto;\">\n",
    "      <img src=\"https://media.giphy.com/media/jZTfM2sOyVqu8D0DC9/giphy.gif\" alt=\"Small Image\" style=\"width: 100px; height: auto;\">\n",
    "       <img src=\"https://media.giphy.com/media/jZTfM2sOyVqu8D0DC9/giphy.gif\" alt=\"Small Image\" style=\"width: 100px; height: auto;\">\n",
    "   </div> \n",
    "   <div style=\"margin-left: auto; display: flex; gap: 10px;\">\n",
    "      <img src=\"https://media.giphy.com/media/jZTfM2sOyVqu8D0DC9/giphy.gif\" alt=\"Small Image\" style=\"width: 100px; height: auto;\">\n",
    "      <img src=\"https://media.giphy.com/media/jZTfM2sOyVqu8D0DC9/giphy.gif\" alt=\"Small Image\" style=\"width: 100px; height: auto;\">\n",
    "       <img src=\"https://media.giphy.com/media/jZTfM2sOyVqu8D0DC9/giphy.gif\" alt=\"Small Image\" style=\"width: 100px; height: auto;\">\n",
    "   </div>\n",
    "</div>\n",
    "</div>\n",
    "</div>\n",
    "</div>\n",
    "    </div>"
   ]
  },
  {
   "cell_type": "markdown",
   "id": "80fbfa5b-0105-48d6-9623-bfc5c3d0cd99",
   "metadata": {},
   "source": [
    "<div class=\"\" role=\"section\" tabindex=\"0\">\n",
    "        \n",
    "<div class=\"cell border-box-sizing text_cell rendered\"><div class=\"prompt input_prompt\">\n",
    "</div><div class=\"inner_cell\"><div><div style=\"height: inherit; --mdc-theme-on-primary: #FFFFFF; --mdc-theme-on-surface: rgba(0, 0, 0, 0.87); --mdc-theme-text-primary-on-background: rgba(0, 0, 0, 0.87); --mdc-theme-text-secondary-on-background: rgba(0, 0, 0, 0.54); --mdc-theme-text-hint-on-background: rgba(0, 0, 0, 0.38); --mdc-theme-text-disabled-on-background: rgba(0, 0, 0, 0.38); --mdc-theme-text-icon-on-background: rgba(0, 0, 0, 0.38); --mdc-theme-primary: #20BEFF; --mdc-theme-error: #D93025; --mdc-theme-background: #F8F8F8; --mdc-theme-surface: #FFFFFF; --mdc-theme-primary-bg: #20BEFF; --mdc-theme-secondary-bg: #919294;\" class=\"\"><div id=\"rmwcPortal\"></div><div id=\"kaggle-portal-root-global\"></div><div class=\"sc-gueYoa jEwHJW\"><div class=\"sc-dmqHEX thTOE\"><button aria-label=\"Copy cell link\" title=\"Copy cell link\" class=\"sc-beqWaB iqkEMa undefined google-material-icons\">link</button><button aria-label=\"Embed cell\" title=\"Embed cell\" class=\"sc-beqWaB iqkEMa undefined google-material-icons\">code</button></div></div></div></div>\n",
    "<div class=\"text_cell_render border-box-sizing rendered_html\">\n",
    "<div style=\"display: flex; align-items: center;\">\n",
    "   <div style=\" display: flex; gap: 10px;\">\n",
    "      <img src=\"https://media.giphy.com/media/jZTfM2sOyVqu8D0DC9/giphy.gif\" alt=\"Small Image\" style=\"width: 100px; height: auto;\">\n",
    "      <img src=\"https://media.giphy.com/media/jZTfM2sOyVqu8D0DC9/giphy.gif\" alt=\"Small Image\" style=\"width: 100px; height: auto;\">\n",
    "       <img src=\"https://media.giphy.com/media/jZTfM2sOyVqu8D0DC9/giphy.gif\" alt=\"Small Image\" style=\"width: 100px; height: auto;\">\n",
    "       <img src=\"https://media.giphy.com/media/jZTfM2sOyVqu8D0DC9/giphy.gif\" alt=\"Small Image\" style=\"width: 100px; height: auto;\">\n",
    "       <img src=\"https://media.giphy.com/media/jZTfM2sOyVqu8D0DC9/giphy.gif\" alt=\"Small Image\" style=\"width: 100px; height: auto;\">\n",
    "     </div> \n",
    "   <div style=\"margin-left: auto; display: flex; gap: 10px;\">\n",
    "      <img src=\"https://media.giphy.com/media/jZTfM2sOyVqu8D0DC9/giphy.gif\" alt=\"Small Image\" style=\"width: 100px; height: auto;\">\n",
    "      <img src=\"https://media.giphy.com/media/jZTfM2sOyVqu8D0DC9/giphy.gif\" alt=\"Small Image\" style=\"width: 100px; height: auto;\">\n",
    "       <img src=\"https://media.giphy.com/media/jZTfM2sOyVqu8D0DC9/giphy.gif\" alt=\"Small Image\" style=\"width: 100px; height: auto;\">\n",
    "       <img src=\"https://media.giphy.com/media/jZTfM2sOyVqu8D0DC9/giphy.gif\" alt=\"Small Image\" style=\"width: 100px; height: auto;\">\n",
    "       <img src=\"https://media.giphy.com/media/jZTfM2sOyVqu8D0DC9/giphy.gif\" alt=\"Small Image\" style=\"width: 100px; height: auto;\">\n",
    "       \n",
    "   </div>\n",
    "</div>\n",
    "</div>\n",
    "</div>\n",
    "</div>\n",
    "    </div>"
   ]
  },
  {
   "cell_type": "markdown",
   "id": "83fc8391-16b0-4941-8594-43a50b7874e7",
   "metadata": {},
   "source": [
    "<div class=\"\" role=\"section\" tabindex=\"0\">\n",
    "        \n",
    "<div class=\"cell border-box-sizing text_cell rendered\"><div class=\"prompt input_prompt\">\n",
    "</div><div class=\"inner_cell\"><div><div style=\"height: inherit; --mdc-theme-on-primary: #FFFFFF; --mdc-theme-on-surface: rgba(0, 0, 0, 0.87); --mdc-theme-text-primary-on-background: rgba(0, 0, 0, 0.87); --mdc-theme-text-secondary-on-background: rgba(0, 0, 0, 0.54); --mdc-theme-text-hint-on-background: rgba(0, 0, 0, 0.38); --mdc-theme-text-disabled-on-background: rgba(0, 0, 0, 0.38); --mdc-theme-text-icon-on-background: rgba(0, 0, 0, 0.38); --mdc-theme-primary: #20BEFF; --mdc-theme-error: #D93025; --mdc-theme-background: #F8F8F8; --mdc-theme-surface: #FFFFFF; --mdc-theme-primary-bg: #20BEFF; --mdc-theme-secondary-bg: #919294;\" class=\"\"><div id=\"rmwcPortal\"></div><div id=\"kaggle-portal-root-global\"></div><div class=\"sc-gueYoa jEwHJW\"><div class=\"sc-dmqHEX thTOE\"><button aria-label=\"Copy cell link\" title=\"Copy cell link\" class=\"sc-beqWaB iqkEMa undefined google-material-icons\">link</button><button aria-label=\"Embed cell\" title=\"Embed cell\" class=\"sc-beqWaB iqkEMa undefined google-material-icons\">code</button></div></div></div></div>\n",
    "<div class=\"text_cell_render border-box-sizing rendered_html\">\n",
    "<div style=\"display: flex; align-items: center;\">\n",
    "   <div style=\" display: flex; gap: 10px;\">\n",
    "      <img src=\"https://media.giphy.com/media/jZTfM2sOyVqu8D0DC9/giphy.gif\" alt=\"Small Image\" style=\"width: 100px; height: auto;\">\n",
    "      <img src=\"https://media.giphy.com/media/jZTfM2sOyVqu8D0DC9/giphy.gif\" alt=\"Small Image\" style=\"width: 100px; height: auto;\">\n",
    "       <img src=\"https://media.giphy.com/media/jZTfM2sOyVqu8D0DC9/giphy.gif\" alt=\"Small Image\" style=\"width: 100px; height: auto;\">\n",
    "   </div> \n",
    "   <div style=\"margin-left: auto; display: flex; gap: 10px;\">\n",
    "      <img src=\"https://media.giphy.com/media/jZTfM2sOyVqu8D0DC9/giphy.gif\" alt=\"Small Image\" style=\"width: 100px; height: auto;\">\n",
    "      <img src=\"https://media.giphy.com/media/jZTfM2sOyVqu8D0DC9/giphy.gif\" alt=\"Small Image\" style=\"width: 100px; height: auto;\">\n",
    "       <img src=\"https://media.giphy.com/media/jZTfM2sOyVqu8D0DC9/giphy.gif\" alt=\"Small Image\" style=\"width: 100px; height: auto;\">\n",
    "   </div>\n",
    "</div>\n",
    "</div>\n",
    "</div>\n",
    "</div>\n",
    "    </div>"
   ]
  },
  {
   "cell_type": "markdown",
   "id": "78c3b81c-1070-4c0d-b015-954923c58455",
   "metadata": {
    "tags": []
   },
   "source": [
    "<p style=\"font-family:JetBrains Mono; font-weight:bold; letter-spacing: 2px; color:#007c3e; font-size:350%; text-align:left;padding: 0px; border-bottom: 3px solid #FFC67D\"><span style=\"color: red;\">1</span> | Introduction ✨</p>"
   ]
  },
  {
   "cell_type": "markdown",
   "id": "6062c8ea-2278-4c3b-8faa-c1badf9cca98",
   "metadata": {},
   "source": [
    "<span style=\"color: red;\">1</span> | Introduction ✨</p>"
   ]
  },
  {
   "cell_type": "markdown",
   "id": "9b09fea3-511c-439b-a7e8-c0217f6cfc7e",
   "metadata": {},
   "source": [
    "<div style=\"border-radius:10px; border:#24e7f2 solid ; padding: 15px; background-color: #F3f9ed; font-size:100%; text-align:left\">\n",
    "\n",
    "<p><font size=\"+3\" color=\"#059c99\"><b> ✨Conclusion 😃😃 </b></font></p>\n",
    "<p>The compilation of visualizations offers a comprehensive panorama of diverse facets in different countries, granting insights into their economic, demographic, and environmental realms:\n",
    "    </p>\">🌍 Population Dynamics<a class=\"anchor-link\"target=\"_self\" rel=\" noreferrer nofollow\"></a></h3><p>China and India emerge as demographic behemoths, while the visual representation showcases the profound contrasts in population sizes across nations.</p>\n",
    "<h3 id=\"%F0%9F%8C%B1-Birth-Rates-and-Urbanization\">🌱 Birth Rates and Urbanization<a class=\"anchor-link\" href=\"https://www.kaggle.com/code/zabihullah18/global-countries-eda#%F0%9F%8C%B1-Birth-Rates-and-Urbanization\" target=\"_self\" rel=\" noreferrer nofollow\">¶</a></h3><p>Through the spotlight on countries with elevated birth rates like Niger, the data elucidates population growth dynamics. Furthermore, urbanization trends come to the fore, delineating nations with substantial urban populations.</p>\n",
    "<h3 id=\"%F0%9F%8C%BE-Agriculture-and-Armed-Forces\">🌾 Agriculture and Armed Forces<a class=\"anchor-link\" href=\"https://www.kaggle.com/code/zabihullah18/global-countries-eda#%F0%9F%8C%BE-Agriculture-and-Armed-Forces\" target=\"_self\" rel=\" noreferrer nofollow\">¶</a></h3><p>Uruguay's extensive agricultural land and the magnitude of armed forces in countries like India, China, and the United States underscore their prioritization of these domains.</p>\n",
    "<h3 id=\"%F0%9F%8C%8D-CO2-Emissions-and-Environmental-Impact\">🌍 CO2 Emissions and Environmental Impact<a class=\"anchor-link\" href=\"https://www.kaggle.com/code/zabihullah18/global-countries-eda#%F0%9F%8C%8D-CO2-Emissions-and-Environmental-Impact\" target=\"_self\" rel=\" noreferrer nofollow\">¶</a></h3><p>The juxtaposition of CO2 emissions in China, the United States, and India underscores their momentous contributions to global environmental concerns.</p>\n",
    "<h3 id=\"%F0%9F%92%B0-Economic-Strength-and-GDP\">💰 Economic Strength and GDP<a class=\"anchor-link\" href=\"https://www.kaggle.com/code/zabihullah18/global-countries-eda#%F0%9F%92%B0-Economic-Strength-and-GDP\" target=\"_self\" rel=\" noreferrer nofollow\">¶</a></h3><p>The GDP visualization showcases economic powerhouses like the United States and China, magnifying their significant economic sway.</p>\n",
    "<h3 id=\"%F0%9F%93%9A-Tertiary-Education-Priorities\">📚 Tertiary Education Priorities<a class=\"anchor-link\" href=\"https://www.kaggle.com/code/zabihullah18/global-countries-eda#%F0%9F%93%9A-Tertiary-Education-Priorities\" target=\"_self\" rel=\" noreferrer nofollow\">¶</a></h3><p>Greece's robust tertiary education enrollment rate and the disparities across countries underscore their dedication to higher learning.</p>\n",
    "<h3 id=\"%F0%9F%8C%8E-Linguistic-Diversity\">🌎 Linguistic Diversity<a class=\"anchor-link\" href=\"https://www.kaggle.com/code/zabihullah18/global-countries-eda#%F0%9F%8C%8E-Linguistic-Diversity\" target=\"_self\" rel=\" noreferrer nofollow\">¶</a></h3><p>The linguistic landscape visualization unveils the prevalence of official languages such as French, English, and Spanish, while simultaneously showcasing the tapestry of linguistic diversity.</p>\n",
    "<h3 id=\"%F0%9F%92%B1-Currency-Trends-and-Inflation\">💱 Currency Trends and Inflation<a class=\"anchor-link\" href=\"https://www.kaggle.com/code/zabihullah18/global-countries-eda#%F0%9F%92%B1-Currency-Trends-and-Inflation\" target=\"_self\" rel=\" noreferrer nofollow\">¶</a></h3><p>The depiction of CPI changes among currencies furnishes insights into economic climates and patterns of inflation.</p>\n",
    "<h3 id=\"%F0%9F%8F%99-Urban-Population\">🏙 Urban Population<a class=\"anchor-link\" href=\"https://www.kaggle.com/code/zabihullah18/global-countries-eda#%F0%9F%8F%99-Urban-Population\" target=\"_self\" rel=\" noreferrer nofollow\">¶</a></h3><p>China, India, and the United States command the lead in urban populations, evincing varying degrees of urbanization.</p>\n",
    "<h3 id=\"%F0%9F%8F%9E-Population-Density-and-Life-Expectancy\">🏞 Population Density and Life Expectancy<a class=\"anchor-link\" href=\"https://www.kaggle.com/code/zabihullah18/global-countries-eda#%F0%9F%8F%9E-Population-Density-and-Life-Expectancy\" target=\"_self\" rel=\" noreferrer nofollow\">¶</a></h3><p>The histogram on population density encapsulates a spectrum of densities, while the distribution of life expectancy shines a light on health conditions across nations.</p>\n",
    "<h3 id=\"%F0%9F%93%8A-GDP-and-CO2-Emissions-Relationship\">📊 GDP and CO2 Emissions Relationship<a class=\"anchor-link\" href=\"https://www.kaggle.com/code/zabihullah18/global-countries-eda#%F0%9F%93%8A-GDP-and-CO2-Emissions-Relationship\" target=\"_self\" rel=\" noreferrer nofollow\">¶</a></h3><p>The connection between GDP and CO2 emissions underscores the interrelationship between economic prosperity and environmental challenges.</p>\n",
    "<h3 id=\"%F0%9F%93%88-Correlations-and-Economic-Trends\">📈 Correlations and Economic Trends<a <p>The pair plot charts potential correlations and trends within economic indicators, enriching the analytical depth.</p>\n",
    "<h3 id=\"%F0%9F%93%89-GDP-and-Birth-Rates-Relationship\">📉 GDP and Birth Rates Relationship</h3><p>The interplay between GDP and birth rates suggests the intricate influence of economic factors on population dynamics.</p>\n",
    "\n",
    "</div>"
   ]
  },
  {
   "cell_type": "code",
   "execution_count": null,
   "id": "adf3d800-b8db-4eec-aa22-4c5167aa6b3a",
   "metadata": {},
   "outputs": [],
   "source": [
    "<div style=\"border-radius:10px; border:#24e7f2 solid ; padding: 15px; background-color: #F3f9ed; font-size:100%; text-align:left\">\n",
    "\n",
    "<p><font size=\"+3\" color=\"#059c99\"><b> ✨Conclusion 😃😃 </b></font></p>\n",
    "<p>The compilation of visualizations offers a comprehensive panorama of diverse facets in different countries, granting insights into their economic, demographic, and environmental realms:</p>\n",
    "<h3 id=\"%F0%9F%8C%90-Unemployment-Rates\">🌐 Unemployment Rates<a class=\"anchor-link\" href= target=\"_self\" rel=\" noreferrer nofollow\">¶</a></h3><p>From countries grappling with high unemployment rates like Gabon to those enjoying remarkably low rates such as Germany, these visualizations underline the varied state of global labor markets.</p>\n",
    "<h3 id=\"%F0%9F%8C%8D-Population-Dynamics\">🌍 Population Dynamics<a class=\"anchor-link\" href= target=\"_self\" rel=\" noreferrer nofollow\"><p>China and India emerge as demographic behemoths, while the visual representation showcases the profound contrasts in population sizes across nations.</p>\n",
    "<h3 id=\"%F0%9F%8C%B1-Birth-Rates-and-Urbanization\">🌱 Birth Rates and Urbanization<a class=\"anchor-link\" href=\"https://www.kaggle.com/code/zabihullah18/global-countries-eda#%F0%9F%8C%B1-Birth-Rates-and-Urbanization\" target=\"_self\" rel=\" noreferrer nofollow\">¶</a></h3><p>Through the spotlight on countries with elevated birth rates like Niger, the data elucidates population growth dynamics. Furthermore, urbanization trends come to the fore, delineating nations with substantial urban populations.</p>\n",
    "<h3 id=\"%F0%9F%8C%BE-Agriculture-and-Armed-Forces\">🌾 Agriculture and Armed Forces<a class=\"anchor-link\" href=\"https://www.kaggle.com/code/zabihullah18/global-countries-eda#%F0%9F%8C%BE-Agriculture-and-Armed-Forces\" target=\"_self\" rel=\" noreferrer nofollow\">¶</a></h3><p>Uruguay's extensive agricultural land and the magnitude of armed forces in countries like India, China, and the United States underscore their prioritization of these domains.</p>\n",
    "<h3 id=\"%F0%9F%8C%8D-CO2-Emissions-and-Environmental-Impact\">🌍 CO2 Emissions and Environmental Impact<a class=\"anchor-link\" href=\"https://www.kaggle.com/code/zabihullah18/global-countries-eda#%F0%9F%8C%8D-CO2-Emissions-and-Environmental-Impact\" target=\"_self\" rel=\" noreferrer nofollow\">¶</a></h3><p>The juxtaposition of CO2 emissions in China, the United States, and India underscores their momentous contributions to global environmental concerns.</p>\n",
    "<h3 id=\"%F0%9F%92%B0-Economic-Strength-and-GDP\">💰 Economic Strength and GDP<a class=\"anchor-link\" href=\"https://www.kaggle.com/code/zabihullah18/global-countries-eda#%F0%9F%92%B0-Economic-Strength-and-GDP\" target=\"_self\" rel=\" noreferrer nofollow\">¶</a></h3><p>The GDP visualization showcases economic powerhouses like the United States and China, magnifying their significant economic sway.</p>\n",
    "<h3 id=\"%F0%9F%93%9A-Tertiary-Education-Priorities\">📚 Tertiary Education Priorities<a class=\"anchor-link\" href=\"https://www.kaggle.com/code/zabihullah18/global-countries-eda#%F0%9F%93%9A-Tertiary-Education-Priorities\" target=\"_self\" rel=\" noreferrer nofollow\">¶</a></h3><p>Greece's robust tertiary education enrollment rate and the disparities across countries underscore their dedication to higher learning.</p>\n",
    "<h3 id=\"%F0%9F%8C%8E-Linguistic-Diversity\">🌎 Linguistic Diversity<a class=\"anchor-link\" href=\"https://www.kaggle.com/code/zabihullah18/global-countries-eda#%F0%9F%8C%8E-Linguistic-Diversity\" target=\"_self\" rel=\" noreferrer nofollow\">¶</a></h3><p>The linguistic landscape visualization unveils the prevalence of official languages such as French, English, and Spanish, while simultaneously showcasing the tapestry of linguistic diversity.</p>\n",
    "<h3 id=\"%F0%9F%92%B1-Currency-Trends-and-Inflation\">💱 Currency Trends and Inflation<a class=\"anchor-link\" href=\"https://www.kaggle.com/code/zabihullah18/global-countries-eda#%F0%9F%92%B1-Currency-Trends-and-Inflation\" target=\"_self\" rel=\" noreferrer nofollow\">¶</a></h3><p>The depiction of CPI changes among currencies furnishes insights into economic climates and patterns of inflation.</p>\n",
    "<h3 id=\"%F0%9F%8F%99-Urban-Population\">🏙 Urban Population<a class=\"anchor-link\" href=\"https://www.kaggle.com/code/zabihullah18/global-countries-eda#%F0%9F%8F%99-Urban-Population\" target=\"_self\" rel=\" noreferrer nofollow\">¶</a></h3><p>China, India, and the United States command the lead in urban populations, evincing varying degrees of urbanization.</p>\n",
    "<h3 id=\"%F0%9F%8F%9E-Population-Density-and-Life-Expectancy\">🏞 Population Density and Life Expectancy<a class=\"anchor-link\" href=\"https://www.kaggle.com/code/zabihullah18/global-countries-eda#%F0%9F%8F%9E-Population-Density-and-Life-Expectancy\" target=\"_self\" rel=\" noreferrer nofollow\">¶</a></h3><p>The histogram on population density encapsulates a spectrum of densities, while the distribution of life expectancy shines a light on health conditions across nations.</p>\n",
    "<h3 id=\"%F0%9F%93%8A-GDP-and-CO2-Emissions-Relationship\">📊 GDP and CO2 Emissions Relationship<a class=\"anchor-link\" href=\"https://www.kaggle.com/code/zabihullah18/global-countries-eda#%F0%9F%93%8A-GDP-and-CO2-Emissions-Relationship\" target=\"_self\" rel=\" noreferrer nofollow\">¶</a></h3><p>The connection between GDP and CO2 emissions underscores the interrelationship between economic prosperity and environmental challenges.</p>\n",
    "<h3 id=\"%F0%9F%93%88-Correlations-and-Economic-Trends\">📈 Correlations and Economic Trends<a class=\"anchor-link\" href=\"https://www.kaggle.com/code/zabihullah18/global-countries-eda#%F0%9F%93%88-Correlations-and-Economic-Trends\" target=\"_self\" rel=\" noreferrer nofollow\">¶</a></h3><p>The pair plot charts potential correlations and trends within economic indicators, enriching the analytical depth.</p>\n",
    "<h3 id=\"%F0%9F%93%89-GDP-and-Birth-Rates-Relationship\">📉 GDP and Birth Rates Relationship<a class=\"anchor-link\" href=\"https://www.kaggle.com/code/zabihullah18/global-countries-eda#%F0%9F%93%89-GDP-and-Birth-Rates-Relationship\" target=\"_self\" rel=\" noreferrer nofollow\">¶</a></h3><p>The interplay between GDP and birth rates suggests the intricate influence of economic factors on population dynamics.</p>\n",
    "\n",
    "</div>"
   ]
  },
  {
   "cell_type": "markdown",
   "id": "70e722fb-e601-4700-92e4-e761b0157fd6",
   "metadata": {},
   "source": [
    "<div style=\"border-radius:10px; border:#24e7f2 solid; padding: 15px; background-color: #F3f9ed; font-size:100%; text-align:left\">\n",
    "\n",
    "<p><font size=\"+3\" color=\"#059c99\"><b> ✨Insights 😃😃 </b></font></p>\n",
    "<p>Graphs showing the count of countries by top official languages:</p>\n",
    "<ul>\n",
    "<li>French, English, and Spanish are the most common official languages among the top 10 countries.</li>\n",
    "<li>Arabic and Portuguese are also widely spoken as official languages, each being the primary language in around 10 countries.</li>\n",
    "<li>There are a few countries with None as their official language, which might indicate linguistic diversity or multilingualism.</li>\n",
    "<li>Russian, Swahili, Persian, and Romanian are also represented, albeit in smaller numbers.</li>\n",
    "</ul>\n",
    "\n",
    "</div>"
   ]
  },
  {
   "cell_type": "code",
   "execution_count": null,
   "id": "ccdac8e8-a4b6-41f6-885a-45682e3dbd12",
   "metadata": {},
   "outputs": [],
   "source": []
  }
 ],
 "metadata": {
  "kernelspec": {
   "display_name": "Python 3 (ipykernel)",
   "language": "python",
   "name": "python3"
  },
  "language_info": {
   "codemirror_mode": {
    "name": "ipython",
    "version": 3
   },
   "file_extension": ".py",
   "mimetype": "text/x-python",
   "name": "python",
   "nbconvert_exporter": "python",
   "pygments_lexer": "ipython3",
   "version": "3.11.3"
  }
 },
 "nbformat": 4,
 "nbformat_minor": 5
}
